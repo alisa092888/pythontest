{
  "nbformat": 4,
  "nbformat_minor": 0,
  "metadata": {
    "colab": {
      "provenance": [],
      "authorship_tag": "ABX9TyNW2ZMh4tVQrH7FLI+iaSAO",
      "include_colab_link": true
    },
    "kernelspec": {
      "name": "python3",
      "display_name": "Python 3"
    },
    "language_info": {
      "name": "python"
    }
  },
  "cells": [
    {
      "cell_type": "markdown",
      "metadata": {
        "id": "view-in-github",
        "colab_type": "text"
      },
      "source": [
        "<a href=\"https://colab.research.google.com/github/alisa092888/pythontest/blob/main/min_test_22052023.ipynb\" target=\"_parent\"><img src=\"https://colab.research.google.com/assets/colab-badge.svg\" alt=\"Open In Colab\"/></a>"
      ]
    },
    {
      "cell_type": "code",
      "execution_count": 1,
      "metadata": {
        "colab": {
          "base_uri": "https://localhost:8080/"
        },
        "id": "olGv8NJ5uTMp",
        "outputId": "ea8b19d5-6fb7-4e6a-ebeb-a49f8a10d4a3"
      },
      "outputs": [
        {
          "output_type": "stream",
          "name": "stdout",
          "text": [
            "จำนวนที่1:.88\n",
            "จำนวนที่2:.99\n",
            "จำนวนที่3:.55\n",
            "ค่าน้อยสุดคือ 55\n"
          ]
        }
      ],
      "source": [
        "a=int(input(\"จำนวนที่1:.\"))\n",
        "b=int(input(\"จำนวนที่2:.\")) \n",
        "c=int(input(\"จำนวนที่3:.\"))\n",
        "m=a\n",
        "if(b<m):\n",
        "   m=b\n",
        "if(c<m):\n",
        "   m=c\n",
        "print(\"ค่าน้อยสุดคือ\" ,m)"
      ]
    }
  ]
}